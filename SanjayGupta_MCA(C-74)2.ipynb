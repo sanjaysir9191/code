{
 "cells": [
  {
   "cell_type": "markdown",
   "id": "79caa90a-8690-482b-a5df-ba80df31f723",
   "metadata": {},
   "source": [
    "Name- Sanjay Gupta\n",
    "Course-MCA(C)\n",
    "Student_id=23391100\n"
   ]
  },
  {
   "cell_type": "code",
   "execution_count": null,
   "id": "e1334857-2991-477d-a980-6fc9f2a6678e",
   "metadata": {},
   "outputs": [],
   "source": [
    "\n",
    "\n",
    "\n",
    "\n",
    "\n",
    "# Q1. Write a python program to check whether @ and . is present in a string or not.\n",
    "string=input(\"enter  a string:\")\n",
    "if '@' in string and  '.' in  string:\n",
    "    print(\"valid\") \n",
    "else :\n",
    "    print(\"invalid \")\n",
    "# Q2. Write a python program to find mean, median, mode, standard deviation, and variance.\n",
    "\n",
    "\n",
    "import statistics\n",
    "givenList=[1,2,3,4,5,6,7,5,9,5]\n",
    "mean = statistics.mean(givenList)\n",
    "median = statistics.median(givenList)\n",
    "mode=statistics.mode(givenList)\n",
    "stdDeviation=statistics.stdev(givenList)\n",
    "var=statistics.variance(givenList)\n",
    "\n",
    "print(\"The mean is: \", mean)\n",
    "print(\"The Median is: \", median)\n",
    "print(\"The Mode is: \", mode)\n",
    "print(\"The standard Deviation is: \", stdDeviation)\n",
    "print(\"The variance is: \", var)\n",
    "\n",
    "# Q3. Write a python program to find the occurrence of 'the' in a given string replace it with 'is'.\n",
    "str= input(\"enter a string:\")\n",
    "new_str=str.replace(\"the\",\"is\" )\n",
    "print(new_str)\n",
    "# Q4. Write a python program to find the number of vowels, consonents and digits in a string.\n",
    "str=input(\"enter your string : \")\n",
    "lower= str.lower()\n",
    "vowel=0;\n",
    "consonent=0;\n",
    "digit=0;\n",
    "for i in range(0,len(str)):\n",
    "    if str[i] in (\"'a','e','i','o','u'\"):\n",
    "        vowel=vowel+1;\n",
    "    elif (str[i] >= 'a' and str[i] <= 'z'):  \n",
    "        consonent = consonent+1;\n",
    "    elif str[i] in (\"'1','2','3','4','5','6','7','8','9'\"):\n",
    "        digit=digit +1\n",
    "\n",
    "\n",
    "print(\"vowels\",vowel)\n",
    "print(\"consonants\" ,consonent)\n",
    "print(\"digits\" ,digit)\n"
   ]
  }
 ],
 "metadata": {
  "kernelspec": {
   "display_name": "Python 3 (ipykernel)",
   "language": "python",
   "name": "python3"
  },
  "language_info": {
   "codemirror_mode": {
    "name": "ipython",
    "version": 3
   },
   "file_extension": ".py",
   "mimetype": "text/x-python",
   "name": "python",
   "nbconvert_exporter": "python",
   "pygments_lexer": "ipython3",
   "version": "3.11.6"
  }
 },
 "nbformat": 4,
 "nbformat_minor": 5
}
